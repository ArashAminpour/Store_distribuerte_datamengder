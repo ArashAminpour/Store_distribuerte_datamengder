{
 "cells": [
  {
   "cell_type": "code",
   "execution_count": null,
   "metadata": {},
   "outputs": [],
   "source": [
    "import pandas as pd\n",
    "import os\n",
    "\n",
    "\n",
    "data_root = os.path.abspath('dataset/Data')\n",
    "\n",
    "\n",
    "data_frames = []\n",
    "\n",
    "lst = os.listdir(data_root)\n",
    "lst.sort()\n",
    "for numeric_dir in lst:\n",
    "    numeric_dir_path = os.path.join(data_root, numeric_dir)\n",
    "    if not os.path.isdir(numeric_dir_path):\n",
    "        continue\n",
    "\n",
    "\n",
    "    for trajectory_dir in os.listdir(numeric_dir_path):\n",
    "        trajectory_dir_path = os.path.join(numeric_dir_path, trajectory_dir)\n",
    "\n",
    "        if not os.path.isdir(trajectory_dir_path):\n",
    "            continue\n",
    "\n",
    "\n",
    "        for file in os.listdir(trajectory_dir_path):\n",
    "            if not file.endswith('.plt'):\n",
    "                continue\n",
    "\n",
    "\n",
    "            file_path = os.path.join(trajectory_dir_path, file)\n",
    "\n",
    "\n",
    "            with open(file_path) as f:\n",
    "                line_count = sum(1 for _ in f)\n",
    "                if line_count > 2506:\n",
    "                    print(f\"Skipping {file_path} - File is too long\")\n",
    "                    continue\n",
    "\n",
    "\n",
    "            activity = file[:-4]\n",
    "            user = numeric_dir\n",
    "\n",
    "            with open(file_path) as f:\n",
    "\n",
    "                for _ in range(6):\n",
    "                    next(f)\n",
    "\n",
    "                data = []\n",
    "                for line in f:\n",
    "                    lat, lon, _, altitude, date_days, date_string, time_string = line.split(',')\n",
    "                    data.append({'user': user, 'activity': activity, 'lat': lat, 'lon': lon, 'altitude': altitude, 'date_days': date_days, 'date_string': date_string, 'time_string': time_string})\n",
    "                \n",
    "\n",
    "                data_frames.extend(data)\n",
    "\n",
    "\n",
    "final_df = pd.DataFrame(data_frames)\n",
    "\n",
    "\n",
    "final_df\n"
   ]
  },
  {
   "cell_type": "code",
   "execution_count": null,
   "metadata": {},
   "outputs": [],
   "source": [
    "final_df.to_csv('trackpoints.csv', index=False)"
   ]
  },
  {
   "cell_type": "code",
   "execution_count": null,
   "metadata": {},
   "outputs": [],
   "source": [
    "#see if any users has any activities with more than 2506 rows\n",
    "final_df.groupby(['user', 'activity']).size().reset_index(name='counts').query('counts > 2506')"
   ]
  },
  {
   "cell_type": "code",
   "execution_count": null,
   "metadata": {},
   "outputs": [],
   "source": [
    "#count unique users\n",
    "final_df['user'].nunique()\n",
    "\n",
    "#match used id with number 000-182 and print those who are wiithout match\n",
    "match =  []\n",
    "for i in range(183):\n",
    "    if str(i).zfill(3) not in final_df['user'].unique():\n",
    "        match.append(i)\n",
    "        print(i)\n",
    "        "
   ]
  },
  {
   "cell_type": "code",
   "execution_count": null,
   "metadata": {},
   "outputs": [],
   "source": [
    "\n",
    "final_df['user'].unique()"
   ]
  },
  {
   "cell_type": "code",
   "execution_count": null,
   "metadata": {},
   "outputs": [],
   "source": [
    "path = os.path.abspath('datasat/labeled_ids.txt')\n",
    "\n",
    "with open(path) as f:\n",
    "\n",
    "    list = [int(x) for x in f.read().split()]\n",
    "    list = [x for x in list if x != 0]\n",
    "    \n",
    "print(list)"
   ]
  },
  {
   "cell_type": "code",
   "execution_count": null,
   "metadata": {},
   "outputs": [],
   "source": [
    "for i in match:\n",
    "    if str(i).zfill(3) in list:\n",
    "        print(i)"
   ]
  }
 ],
 "metadata": {
  "language_info": {
   "name": "python"
  },
  "orig_nbformat": 4
 },
 "nbformat": 4,
 "nbformat_minor": 2
}
