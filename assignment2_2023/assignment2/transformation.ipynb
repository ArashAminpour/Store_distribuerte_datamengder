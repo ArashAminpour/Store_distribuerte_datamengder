{
 "cells": [
  {
   "cell_type": "code",
   "execution_count": 35,
   "metadata": {},
   "outputs": [],
   "source": [
    "import pandas as pd\n",
    "import os"
   ]
  },
  {
   "cell_type": "code",
   "execution_count": 36,
   "metadata": {},
   "outputs": [],
   "source": [
    "data_path = \"C:/Users/aminp/OneDrive - NTNU/Dokumenter/NTNU/5år/Store, distribuerte datamengder/Store_distribuerte_datamengder/dataset/\"\n",
    "\n"
   ]
  },
  {
   "cell_type": "code",
   "execution_count": 37,
   "metadata": {},
   "outputs": [],
   "source": [
    "def get_user_id(data_path): \n",
    "    directories_data = os.listdir(f'{data_path}/Data')\n",
    "    labeled_ids_path = f'{data_path}/labeled_ids.txt'\n",
    "    \n",
    "    with open(labeled_ids_path, \"r\") as file:\n",
    "        lines = file.readlines()\n",
    "    ids = [line.strip().split()[0] for line in lines]\n",
    "\n",
    "    df= pd.DataFrame({\"id\": directories_data})\n",
    "    labeled_ids_df = pd.DataFrame({\"LabelID\":ids})\n",
    "\n",
    "    merged_df = pd.merge(df, labeled_ids_df, left_on=\"id\", right_on=\"LabelID\", how = \"left\")\n",
    "    merged_df[\"has_labels\"] = merged_df[\"LabelID\"].notna()\n",
    "    merged_df.drop(\"LabelID\", axis=1, inplace=True)\n",
    "\n",
    "    return merged_df\n",
    "\n"
   ]
  },
  {
   "cell_type": "code",
   "execution_count": 38,
   "metadata": {},
   "outputs": [
    {
     "name": "stdout",
     "output_type": "stream",
     "text": [
      "      id  has_labels\n",
      "0    000       False\n",
      "1    001       False\n",
      "2    002       False\n",
      "3    003       False\n",
      "4    004       False\n",
      "..   ...         ...\n",
      "177  177       False\n",
      "178  178       False\n",
      "179  179        True\n",
      "180  180       False\n",
      "181  181       False\n",
      "\n",
      "[182 rows x 2 columns]\n"
     ]
    }
   ],
   "source": [
    "print(get_user_id(data_path))"
   ]
  }
 ],
 "metadata": {
  "kernelspec": {
   "display_name": "Python 3",
   "language": "python",
   "name": "python3"
  },
  "language_info": {
   "codemirror_mode": {
    "name": "ipython",
    "version": 3
   },
   "file_extension": ".py",
   "mimetype": "text/x-python",
   "name": "python",
   "nbconvert_exporter": "python",
   "pygments_lexer": "ipython3",
   "version": "3.9.7"
  },
  "orig_nbformat": 4
 },
 "nbformat": 4,
 "nbformat_minor": 2
}
